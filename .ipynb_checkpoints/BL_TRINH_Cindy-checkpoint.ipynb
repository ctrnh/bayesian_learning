{
 "cells": [
  {
   "cell_type": "markdown",
   "metadata": {},
   "source": [
    "In this notebook, we consider a regression problem in 1 dimension and try to use Quasi-bayesian learning to predict the Fourier coefficients of a function."
   ]
  },
  {
   "cell_type": "markdown",
   "metadata": {},
   "source": [
    "We want a regressor which is an approximation of the true function $$f_\\theta (x) = \\sum_{i=1}^m a_i*sin(b_i*x)+c_i*cos(d_i*x) $$ Thus, we want to learn the parameters  $\\theta = [a,b,c,d]$ (a,b,c,d $\\in \\mathbb{R}^m$)\n"
   ]
  },
  {
   "cell_type": "markdown",
   "metadata": {},
   "source": [
    "We use for the loss function \n",
    "$$R_n(f_\\theta) = \\frac{1}{n} \\sum_{i=1}^n (f_\\theta(x_i)-y_i)^2$$"
   ]
  },
  {
   "cell_type": "markdown",
   "metadata": {},
   "source": [
    "and for the prior, independant identical centered Gaussian for each of the components of $\\theta$ such that the joint probability is the product of Gaussian of same variance and zero-mean."
   ]
  },
  {
   "cell_type": "markdown",
   "metadata": {},
   "source": [
    "The quasi-posterior is then\n",
    "$$ exp(-\\frac{\\lambda}{N} \\sum_{i=1}^N (f_\\theta(x_i)-y_i)^2 - \\frac{||\\theta||^2}{2\\sigma^2}) $$"
   ]
  },
  {
   "cell_type": "markdown",
   "metadata": {},
   "source": [
    "# Import"
   ]
  },
  {
   "cell_type": "code",
   "execution_count": 1,
   "metadata": {},
   "outputs": [],
   "source": [
    "import numpy as np\n",
    "import matplotlib.pyplot as plt\n",
    "from sklearn import datasets"
   ]
  },
  {
   "cell_type": "markdown",
   "metadata": {},
   "source": [
    "# Useful functions"
   ]
  },
  {
   "cell_type": "markdown",
   "metadata": {},
   "source": [
    "## Tools"
   ]
  },
  {
   "cell_type": "code",
   "execution_count": 2,
   "metadata": {},
   "outputs": [],
   "source": [
    "def decompose_theta(theta):\n",
    "    N=len(theta)\n",
    "    assert(N%4==0)\n",
    "    m = N//4\n",
    "    a = theta[:int(N//4)]\n",
    "    b = theta[int(N//4):2*int(N//4)]\n",
    "    c = theta[2*int(N//4):3*int(N//4)]\n",
    "    d = theta[3*int(N//4):]\n",
    "    return a,b,c,d\n",
    "\n"
   ]
  },
  {
   "cell_type": "markdown",
   "metadata": {},
   "source": [
    "## Functions"
   ]
  },
  {
   "cell_type": "code",
   "execution_count": 3,
   "metadata": {},
   "outputs": [],
   "source": [
    "def f_theta(x,theta):\n",
    "    \"\"\"\n",
    "    f_theta(x) = a*sin(b*x) + c*cos(d*x)\n",
    "    \"\"\"\n",
    "    a,b,c,d = decompose_theta(theta)\n",
    "    m=len(a)\n",
    "    \n",
    "    try:\n",
    "        N=len(x)\n",
    "    except:\n",
    "        x=np.array([x])\n",
    "        N=1\n",
    "    x_tile = np.tile(x,(m,1)).T\n",
    "    \n",
    "    a_tile = np.tile(a,(N,1))\n",
    "    b_tile = np.tile(b,(N,1))\n",
    "    c_tile = np.tile(c,(N,1))\n",
    "    d_tile = np.tile(d,(N,1))\n",
    "    \n",
    "    return (np.sum(a_tile*np.sin(b_tile*x_tile),axis=1) \n",
    "            + np.sum(c_tile*np.cos(d_tile*x_tile),axis=1))"
   ]
  },
  {
   "cell_type": "code",
   "execution_count": 4,
   "metadata": {},
   "outputs": [],
   "source": [
    "def gradf_theta(x,theta):\n",
    "    \"\"\"\n",
    "    gradient of f_theta\n",
    "    \"\"\"\n",
    "    a,b,c,d = decompose_theta(theta)\n",
    "    m=len(a)\n",
    "    try:\n",
    "        N=len(x)\n",
    "    except:\n",
    "        x=np.array([x])\n",
    "        N=1\n",
    "    x_tile = np.tile(x,(m,1)).T\n",
    "    \n",
    "    a_tile = np.tile(a,(N,1))\n",
    "    b_tile = np.tile(b,(N,1))\n",
    "    c_tile = np.tile(c,(N,1))\n",
    "    d_tile = np.tile(d,(N,1))\n",
    "    \n",
    "    grad_a = np.sin(b_tile*x_tile)\n",
    "    grad_b = a_tile*x_tile*np.cos(b_tile*x_tile)\n",
    "    grad_c = np.cos(d_tile*x_tile)\n",
    "    grad_d = -c_tile*x_tile*np.sin(d_tile*x_tile)\n",
    "    return np.hstack((grad_a,grad_b,grad_c,grad_d))\n",
    "    "
   ]
  },
  {
   "cell_type": "code",
   "execution_count": 5,
   "metadata": {},
   "outputs": [],
   "source": [
    "def grad_Rn(x,y,theta):\n",
    "    \"\"\"\n",
    "    gradient of Rn(f_theta)\n",
    "    For Rn, we take the MSE (f_theta(x)-y)²\n",
    "    \"\"\"\n",
    "    N = len(x)\n",
    "    f_y = f_theta(x,theta)-y\n",
    "    grad_f = gradf_theta(x,theta).T\n",
    "    result = (2/N)*np.dot(grad_f,f_y)\n",
    "    return result\n",
    "    \n",
    "    "
   ]
  },
  {
   "cell_type": "code",
   "execution_count": 6,
   "metadata": {},
   "outputs": [],
   "source": [
    "def grad_prior(theta,sigma=10):\n",
    "    \"\"\"\n",
    "    Gradient of the prior part\n",
    "    \"\"\"\n",
    "    return np.array(theta)/sigma**2"
   ]
  },
  {
   "cell_type": "code",
   "execution_count": 7,
   "metadata": {},
   "outputs": [],
   "source": [
    "def grad_final(lamb,x,y,theta):\n",
    "    \"\"\"\n",
    "    Gradient of F where F is such that the quasi posterior = exp(-F(x))\n",
    "    \"\"\"\n",
    "    return lamb*grad_Rn(x,y,theta) + grad_prior(theta)"
   ]
  },
  {
   "cell_type": "code",
   "execution_count": 8,
   "metadata": {},
   "outputs": [],
   "source": [
    "def f_total(x,y,lamb,theta,sigma=10):\n",
    "    \"\"\"\n",
    "    Quasi-posterior\n",
    "    \"\"\"\n",
    "    try:\n",
    "        N=len(x)\n",
    "    except:\n",
    "        x=np.array([x])\n",
    "        N=1\n",
    "    \n",
    "    return np.exp(-(lamb/N)*np.sum((f_theta(x,theta)-y)**2) - np.sum(theta**2)/(2*sigma**2))"
   ]
  },
  {
   "cell_type": "markdown",
   "metadata": {},
   "source": [
    "# Data"
   ]
  },
  {
   "cell_type": "code",
   "execution_count": 21,
   "metadata": {},
   "outputs": [],
   "source": [
    "theta= np.random.normal(scale=5,size=(4*3,))"
   ]
  },
  {
   "cell_type": "code",
   "execution_count": 22,
   "metadata": {},
   "outputs": [
    {
     "data": {
      "text/plain": [
       "array([-3.01128026,  6.82699133, -2.22161108,  1.92006363,  5.48172057,\n",
       "       -1.14415459,  6.24168323, -7.2541468 ,  2.44876331,  3.07563641,\n",
       "        0.5494121 , -1.32459041])"
      ]
     },
     "execution_count": 22,
     "metadata": {},
     "output_type": "execute_result"
    }
   ],
   "source": [
    "theta"
   ]
  },
  {
   "cell_type": "code",
   "execution_count": 23,
   "metadata": {},
   "outputs": [],
   "source": [
    "N=50\n",
    "x = np.linspace(-1,1,N)\n",
    "y = f_theta(x,theta)"
   ]
  },
  {
   "cell_type": "code",
   "execution_count": 24,
   "metadata": {},
   "outputs": [],
   "source": [
    "noise = np.random.normal(loc=0,scale=3,size=N)\n",
    "y_noise = y+noise ## Our data points"
   ]
  },
  {
   "cell_type": "code",
   "execution_count": 25,
   "metadata": {
    "scrolled": true
   },
   "outputs": [
    {
     "data": {
      "text/plain": [
       "<matplotlib.legend.Legend at 0x7f1e042217f0>"
      ]
     },
     "execution_count": 25,
     "metadata": {},
     "output_type": "execute_result"
    },
    {
     "data": {
      "image/png": "[encoded data removed]",
      "text/plain": [
       "<Figure size 432x288 with 1 Axes>"
      ]
     },
     "metadata": {},
     "output_type": "display_data"
    }
   ],
   "source": [
    "plt.plot(x,y,label=\"original function\")\n",
    "plt.plot(x,y_noise,'r*',label= \"data\")\n",
    "plt.legend()"
   ]
  },
  {
   "cell_type": "markdown",
   "metadata": {},
   "source": [
    "# Sampling with Underdamped Langevin MCMC"
   ]
  },
  {
   "cell_type": "markdown",
   "metadata": {},
   "source": [
    "Here I decided to try to sample from the quasi-posterior with an MCMC based on the discretization of Underdamped Langevin equation that I came across during my internship last year.\n",
    "$$X_{k+1} = X_k -\\gamma * \\nabla f(X_k) + \\sqrt{2 \\gamma} Z_{k+1}$$\n",
    "where $Z_{k+1}$ $\\sim$ $\\mathcal{N}$(0,$I_n$) and $\\gamma$ is the step size.\n",
    "\n",
    "The stationary distribution of this stochastic process is $\\sim exp(-f(x))$"
   ]
  },
  {
   "cell_type": "code",
   "execution_count": 26,
   "metadata": {},
   "outputs": [],
   "source": [
    "theta_init = np.array([1,1,1,1,1,1,1,1])\n",
    "\n",
    "warmup = 10000\n",
    "N_iter=  100000\n",
    "step = 0.01\n",
    "lamb=3\n",
    "\n",
    "\n",
    "theta_hist_UL=np.zeros((N_iter,len(theta_init)))\n",
    "\n",
    "theta=theta_init\n",
    "for i in range(warmup):\n",
    "    Z = np.random.normal(loc=0,scale=1,size=len(theta_init))\n",
    "    theta = theta - step*grad_final(lamb,x,y_noise,theta) + np.sqrt(2*step)*Z\n",
    "    \n",
    "for i in range(N_iter):\n",
    "    Z = np.random.normal(loc=0,scale=1,size=len(theta_init))\n",
    "    theta = theta - step*grad_final(lamb,x,y_noise,theta) + np.sqrt(2*step)*Z\n",
    "    theta_hist_UL[i] = theta"
   ]
  },
  {
   "cell_type": "code",
   "execution_count": 27,
   "metadata": {},
   "outputs": [
    {
     "data": {
      "text/plain": [
       "[<matplotlib.lines.Line2D at 0x7f1e038a9b38>]"
      ]
     },
     "execution_count": 27,
     "metadata": {},
     "output_type": "execute_result"
    },
    {
     "data": {
      "image/png": "[encoded data removed]",
      "text/plain": [
       "<Figure size 432x288 with 1 Axes>"
      ]
     },
     "metadata": {},
     "output_type": "display_data"
    }
   ],
   "source": [
    "# Monitor convergence of the Markov chain\n",
    "plt.plot(np.sum(theta_hist_UL,axis=1))"
   ]
  },
  {
   "cell_type": "markdown",
   "metadata": {},
   "source": [
    "## Estimators"
   ]
  },
  {
   "cell_type": "markdown",
   "metadata": {},
   "source": [
    "### Mean"
   ]
  },
  {
   "cell_type": "code",
   "execution_count": 28,
   "metadata": {},
   "outputs": [],
   "source": [
    "theta_mean_UL = theta_hist_UL.mean(axis=0)"
   ]
  },
  {
   "cell_type": "markdown",
   "metadata": {},
   "source": [
    "### MAP estimator"
   ]
  },
  {
   "cell_type": "code",
   "execution_count": 29,
   "metadata": {},
   "outputs": [],
   "source": [
    "maxi = 0\n",
    "for i in range(len(theta_hist_UL)):\n",
    "    tmp = f_total(x,y_noise,lamb,theta_hist_UL[i])\n",
    "    if maxi <= tmp:\n",
    "        theta_MAP_UL= theta_hist_UL[i]\n"
   ]
  },
  {
   "cell_type": "markdown",
   "metadata": {},
   "source": [
    "# Plot"
   ]
  },
  {
   "cell_type": "code",
   "execution_count": 30,
   "metadata": {
    "scrolled": false
   },
   "outputs": [
    {
     "data": {
      "text/plain": [
       "<matplotlib.legend.Legend at 0x7f1e0361f3c8>"
      ]
     },
     "execution_count": 30,
     "metadata": {},
     "output_type": "execute_result"
    },
    {
     "data": {
      "image/png": "[encoded data removed]",
      "text/plain": [
       "<Figure size 432x288 with 1 Axes>"
      ]
     },
     "metadata": {},
     "output_type": "display_data"
    }
   ],
   "source": [
    "plt.plot(x,y,label=\"original data\")\n",
    "plt.plot(x,f_theta(x,theta_mean_UL),label=\"theta_mean_UL\")\n",
    "plt.plot(x,f_theta(x,theta_MAP_UL),label=\"theta_MAP_UL\")\n",
    "plt.legend()"
   ]
  },
  {
   "cell_type": "markdown",
   "metadata": {},
   "source": [
    "In this example, we can see that the MAP estimator is better than the mean estimator in certain regions (x<0 for example), whereas the mean estimator is better around 0.25."
   ]
  },
  {
   "cell_type": "markdown",
   "metadata": {},
   "source": [
    "To go further, we could have played more on the temperature $\\lambda$. We could also play with a larger number of coefficients of Fourier, with real data, with functions in higher dimensions, maybe estimate images if we find the data. We could also try to predict the parameters of classifier algorithms."
   ]
  },
  {
   "cell_type": "code",
   "execution_count": null,
   "metadata": {},
   "outputs": [],
   "source": []
  },
  {
   "cell_type": "code",
   "execution_count": null,
   "metadata": {},
   "outputs": [],
   "source": []
  },
  {
   "cell_type": "code",
   "execution_count": null,
   "metadata": {},
   "outputs": [],
   "source": []
  },
  {
   "cell_type": "code",
   "execution_count": null,
   "metadata": {},
   "outputs": [],
   "source": []
  }
 ],
 "metadata": {
  "kernelspec": {
   "display_name": "Python 3",
   "language": "python",
   "name": "python3"
  },
  "language_info": {
   "codemirror_mode": {
    "name": "ipython",
    "version": 3
   },
   "file_extension": ".py",
   "mimetype": "text/x-python",
   "name": "python",
   "nbconvert_exporter": "python",
   "pygments_lexer": "ipython3",
   "version": "3.6.5"
  },
  "toc": {
   "base_numbering": 1,
   "nav_menu": {},
   "number_sections": true,
   "sideBar": true,
   "skip_h1_title": false,
   "title_cell": "Table of Contents",
   "title_sidebar": "Contents",
   "toc_cell": false,
   "toc_position": {},
   "toc_section_display": true,
   "toc_window_display": true
  }
 },
 "nbformat": 4,
 "nbformat_minor": 2
}
