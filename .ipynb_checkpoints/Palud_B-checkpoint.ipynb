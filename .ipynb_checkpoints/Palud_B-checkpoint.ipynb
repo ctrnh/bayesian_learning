{
 "cells": [
  {
   "cell_type": "markdown",
   "metadata": {
    "toc": true
   },
   "source": [
    "<h1>TP : Application of Quasi-Bayesian Learning Methods for Regression<span class=\"tocSkip\"></span></h1>\n",
    "<div class=\"toc\"><ul class=\"toc-item\"><li><span><a href=\"#Importations\" data-toc-modified-id=\"Importations-1\"><span class=\"toc-item-num\">1&nbsp;&nbsp;</span>Importations</a></span></li><li><span><a href=\"#Implementation-of-the-Quasi-Bayesian-Approach\" data-toc-modified-id=\"Implementation-of-the-Quasi-Bayesian-Approach-2\"><span class=\"toc-item-num\">2&nbsp;&nbsp;</span>Implementation of the Quasi-Bayesian Approach</a></span></li><li><span><a href=\"#1D-Artificial-dataset\" data-toc-modified-id=\"1D-Artificial-dataset-3\"><span class=\"toc-item-num\">3&nbsp;&nbsp;</span>1D Artificial dataset</a></span><ul class=\"toc-item\"><li><span><a href=\"#Definition-of-Dataset\" data-toc-modified-id=\"Definition-of-Dataset-3.1\"><span class=\"toc-item-num\">3.1&nbsp;&nbsp;</span>Definition of Dataset</a></span></li><li><span><a href=\"#Quasi-Bayesian-Approach\" data-toc-modified-id=\"Quasi-Bayesian-Approach-3.2\"><span class=\"toc-item-num\">3.2&nbsp;&nbsp;</span>Quasi-Bayesian Approach</a></span></li><li><span><a href=\"#Sklearn-Linear-Regression-(for-comparison)\" data-toc-modified-id=\"Sklearn-Linear-Regression-(for-comparison)-3.3\"><span class=\"toc-item-num\">3.3&nbsp;&nbsp;</span>Sklearn Linear Regression (for comparison)</a></span></li></ul></li><li><span><a href=\"#Real-Multivariate-Case-application-(d=10)\" data-toc-modified-id=\"Real-Multivariate-Case-application-(d=10)-4\"><span class=\"toc-item-num\">4&nbsp;&nbsp;</span>Real Multivariate Case application (d=10)</a></span><ul class=\"toc-item\"><li><span><a href=\"#Data-importation\" data-toc-modified-id=\"Data-importation-4.1\"><span class=\"toc-item-num\">4.1&nbsp;&nbsp;</span>Data importation</a></span></li><li><span><a href=\"#Quasi-Bayesian-Approach\" data-toc-modified-id=\"Quasi-Bayesian-Approach-4.2\"><span class=\"toc-item-num\">4.2&nbsp;&nbsp;</span>Quasi-Bayesian Approach</a></span></li><li><span><a href=\"#Sklearn-Linear-Regression-(for-comparison)\" data-toc-modified-id=\"Sklearn-Linear-Regression-(for-comparison)-4.3\"><span class=\"toc-item-num\">4.3&nbsp;&nbsp;</span>Sklearn Linear Regression (for comparison)</a></span></li></ul></li><li><span><a href=\"#Conclusion\" data-toc-modified-id=\"Conclusion-5\"><span class=\"toc-item-num\">5&nbsp;&nbsp;</span>Conclusion</a></span></li></ul></div>"
   ]
  },
  {
   "cell_type": "markdown",
   "metadata": {},
   "source": [
    "In this work, I implement a PAC-Bayesian Learning method and test it on two regression tasks. For each regression, I compare the performance (evaluated with the determination coefficient $R^2$ and the MSE) of the obtained Bayesian regressor with a Linear Regressor of Sklearn. For each task, the implemented approach performs equally well as the sklearn method."
   ]
  },
  {
   "cell_type": "markdown",
   "metadata": {},
   "source": [
    "# Importations "
   ]
  },
  {
   "cell_type": "code",
   "execution_count": 2,
   "metadata": {
    "ExecuteTime": {
     "end_time": "2019-03-14T10:58:49.041473Z",
     "start_time": "2019-03-14T10:58:47.792265Z"
    }
   },
   "outputs": [],
   "source": [
    "import matplotlib.pyplot as plt\n",
    "import numpy as np\n",
    "%matplotlib inline\n",
    "\n",
    "from scipy.stats import multivariate_normal\n",
    "\n",
    "from sklearn.datasets import load_diabetes\n",
    "from sklearn.preprocessing import StandardScaler\n",
    "from sklearn.linear_model import LinearRegression\n",
    "from sklearn.model_selection import train_test_split"
   ]
  },
  {
   "cell_type": "markdown",
   "metadata": {},
   "source": [
    "# Implementation of the Quasi-Bayesian Approach\n",
    "\n",
    "Let $d$ be the dimension of the considered data. I stacked a column of \"ones\" to the input data so the model can fit an interceipt. The actual dimension of the data is $d+1$. In the following, we only consider linear models for fitting the data. This means that the space of considered function is \n",
    "\n",
    "$$\n",
    "\\mathcal{F}_0 =\n",
    "\\begin{Bmatrix}\n",
    "\\phi_{\\theta} : & \\mathbb{R}^{d+1} & \\to &  \\mathbb{R} \\\\ \n",
    "& x & \\mapsto & \\left< \\theta, x \\right>\n",
    "\\end{Bmatrix} \\; \\text{ where } \\left< \\cdot, \\cdot \\right> \\text{ stands for the inner product in } \\mathbb{R}^{d+1}\n",
    "$$\n",
    "\n",
    "First we define a class for such $\\phi$ functions :"
   ]
  },
  {
   "cell_type": "code",
   "execution_count": 3,
   "metadata": {
    "ExecuteTime": {
     "end_time": "2019-03-14T10:58:49.085020Z",
     "start_time": "2019-03-14T10:58:49.045131Z"
    }
   },
   "outputs": [],
   "source": [
    "class Predictor:\n",
    "    '''\n",
    "    The Predictor class represents phi objects (i.e. linear functions)\n",
    "    \n",
    "    attributes :\n",
    "        d : dimension of the problem (does not count the \"one\" dimension used for interceipt)\n",
    "        theta : np.array (shape (d+1,)) of the weights of the linear regression \n",
    "    '''\n",
    "    \n",
    "    def __init__(self, d, theta=None):\n",
    "        '''class constructor'''\n",
    "        assert isinstance(d, int)\n",
    "        self.d = d\n",
    "        if not(theta is None):\n",
    "            assert theta.shape[0] == self.d + 1\n",
    "            assert len(theta.shape) == 1\n",
    "            self.theta = theta\n",
    "        else:\n",
    "            self.theta = np.random.multivariate_normal(mean=np.zeros((d+1,)), cov=1/3*np.eye(d+1))\n",
    "    \n",
    "    def predict(self, X):\n",
    "        '''predicts for all X rows wether they are drawn ones (returns 1) or not (returns 0)'''\n",
    "        assert X.shape[1] == self.d + 1\n",
    "        assert len(X.shape) == 2        \n",
    "        return np.dot(self.theta.reshape(1, self.d+1), X.T)\n",
    "    \n",
    "    def score(self, X, y):\n",
    "        '''returns the R^2 coefficient of the prediction with the true output'''\n",
    "        return np.corrcoef(self.predict(X), y)[0,1]**2\n",
    "    \n",
    "    def emp_risk(self, X, y):\n",
    "        '''computes the empirical risk on the X input and associated y true output'''\n",
    "        assert X.shape[1] == self.d + 1\n",
    "        assert len(X.shape) == 2\n",
    "        assert X.shape[0] == y.shape[0]\n",
    "        assert len(y.shape) == 1\n",
    "        return np.mean( (self.predict(X) - y)**2 )\n"
   ]
  },
  {
   "cell_type": "markdown",
   "metadata": {},
   "source": [
    "Then we implement our Bayesian approach, which is based on three main distributions :\n",
    "* the pseudo-prior $\\pi$ (in the following, I set the pseudo-prior to be a multivariate normal distribution which parameters are chosen by the user)\n",
    "* the pseudo-likelihood, here $\\phi \\mapsto \\exp(-\\lambda \\ r_n(\\phi))$ \n",
    "* the pseudo-posterior $\\rho_{\\lambda}(\\phi) \\propto \\exp(-\\lambda \\ r_n(\\phi)) \\; \\pi(\\phi)$\n",
    "\n",
    "The idea is, once the distributions are defined, to sample the pseudo-posterior to get a set of $\\phi$ functions, and then aggregate them by taking the mean function (or the median, or the MAQP, or simply one random instance. Once again, this is the choice of the user)."
   ]
  },
  {
   "cell_type": "code",
   "execution_count": 4,
   "metadata": {
    "ExecuteTime": {
     "end_time": "2019-03-14T10:59:42.061572Z",
     "start_time": "2019-03-14T10:59:42.039633Z"
    }
   },
   "outputs": [],
   "source": [
    "class QuasiBayesianApproach:\n",
    "    '''\n",
    "    This class allows to run Quasi-Bayesian Learning processes.\n",
    "    \n",
    "    attributes :\n",
    "        d (int) : dimension of the problem (does not count the \"one\" dimension used for interceipt)\n",
    "        lambda_ (float) : parameter in charge of the tradeoff between the pseudo-prior and the pseudo-likelihood\n",
    "        prior-mean (np.array of shape (d+1,)) : mean point of the prior multivariate normal distribution.\n",
    "        prior-cov (np.array of shape (d+1,d+1)) : covariance matrix of the prior multivariate normal distribution.\n",
    "    '''\n",
    "    \n",
    "    def __init__(self, d, lambda_, X, y, prior_mean, prior_cov):\n",
    "        '''class constructor'''\n",
    "        assert isinstance(d, int)\n",
    "        assert isinstance(lambda_, float)\n",
    "        assert prior_mean.shape[0] == d+1\n",
    "        assert len(prior_mean.shape) == 1\n",
    "        assert prior_cov.shape[0] == prior_cov.shape[0] == d+1\n",
    "        assert len(prior_cov.shape) == 2\n",
    "        assert X.shape[1] == d + 1\n",
    "        assert len(X.shape) == 2\n",
    "        assert X.shape[0] == y.shape[0]\n",
    "        assert len(y.shape) == 1\n",
    "        \n",
    "        self.d = d\n",
    "        self.lambda_ = lambda_\n",
    "        self.X = X\n",
    "        self.y = y\n",
    "        self.prior = multivariate_normal(mean=prior_mean, cov=prior_cov)    \n",
    "\n",
    "    def eval_pseudo_likelihood(self, phi):\n",
    "        '''evaluates the function phi on the pseudo-likelihood \"density\"'''\n",
    "        assert isinstance(phi, Predictor)\n",
    "        return np.exp(-self.lambda_ * phi.emp_risk(self.X, self.y))\n",
    "    \n",
    "    def eval_pseudo_prior(self, phi):\n",
    "        '''evaluates the function phi on the pseudo-prior \"density\"'''\n",
    "        assert isinstance(phi, Predictor)\n",
    "        return self.prior.pdf(phi.theta)\n",
    "    \n",
    "    def eval_pseudo_posterior(self, phi):\n",
    "        '''evaluates the function phi on the pseudo-posterior \"density\"'''\n",
    "        assert isinstance(phi, Predictor)\n",
    "        return self.eval_pseudo_likelihood(phi) * self.eval_pseudo_prior(phi)\n",
    "    \n",
    "    def sample_posterior(self, num_samples, burn_in_size):\n",
    "        '''samples the posterior using a Metropolis Hastings algorithm'''\n",
    "        assert num_samples >= 0\n",
    "        assert isinstance(num_samples, int)\n",
    "        assert burn_in_size >= 0\n",
    "        assert isinstance(burn_in_size, int)\n",
    "                \n",
    "        phi = Predictor(self.d, self.prior.rvs())\n",
    "        p = self.eval_pseudo_posterior(phi)\n",
    "        samples = []\n",
    "\n",
    "        for i in range(burn_in_size + num_samples):\n",
    "            phi_n = Predictor(self.d, phi.theta + np.random.uniform(low=-1/2, high=1/2, size=d+1))\n",
    "            pn = self.eval_pseudo_posterior(phi_n)\n",
    "            if pn >= p:\n",
    "                p, phi = pn, phi_n\n",
    "            else:\n",
    "                u = np.random.rand()\n",
    "                if u < pn/p:\n",
    "                    p, phi = pn, phi_n\n",
    "            if i >= burn_in_size:\n",
    "                samples.append(phi.theta)\n",
    "                \n",
    "        return np.array(samples)  \n",
    "    \n",
    "    def get_estimator_from_samples(self, samples, method):\n",
    "        '''aggregates the theta samples to build a Predictor using a method chosen by user.\n",
    "        \n",
    "        input : \n",
    "            samples : np.array of shape (-1,d+1)\n",
    "            method : (str) name of the method to use for aggregation (default : \"mean\")\n",
    "        \n",
    "        output : \n",
    "            Predictor instance\n",
    "        '''\n",
    "        assert method in [\"MAQP\", \"mean\", \"median\", \"sample\"]\n",
    "        if method == \"mean\":\n",
    "            return Predictor(self.d, theta=np.mean(samples, axis=0))\n",
    "        elif method == \"median\":\n",
    "            return Predictor(self.d, theta=np.median(samples, axis=0))\n",
    "        elif method == \"sample\":\n",
    "            i = np.random.choice(samples.shape[0])\n",
    "            return Predictor(self.d, theta=samples[i])\n",
    "        elif method == \"MAQP\":\n",
    "            theta = np.zeros((self.d+1,))\n",
    "            for i in range(self.d+1):\n",
    "                hist = np.histogram(samples[:,i], bins='auto')\n",
    "                idx = np.argmax(hist[0])\n",
    "                theta[i] += hist[1][idx]\n",
    "            return Predictor(theta=theta)\n",
    "\n",
    "    def get_estimator(self, method='mean', num_samples=20000, burn_in_size=6000):\n",
    "        '''main function of the class. Samples the pseudo-posterior distribution and then \n",
    "        aggregates the samples to get a good predictor'''\n",
    "        samples = self.sample_posterior(num_samples, burn_in_size)\n",
    "        phi = self.get_estimator_from_samples(samples, method)\n",
    "        return phi\n",
    "             "
   ]
  },
  {
   "cell_type": "markdown",
   "metadata": {
    "toc-hr-collapsed": false
   },
   "source": [
    "# 1D Artificial dataset"
   ]
  },
  {
   "cell_type": "markdown",
   "metadata": {},
   "source": [
    "## Definition of Dataset"
   ]
  },
  {
   "cell_type": "code",
   "execution_count": 5,
   "metadata": {
    "ExecuteTime": {
     "end_time": "2019-03-14T11:04:59.774877Z",
     "start_time": "2019-03-14T11:04:59.769867Z"
    }
   },
   "outputs": [],
   "source": [
    "# definition of the input\n",
    "num_instances, x_lim = 200, 5\n",
    "X1 = np.linspace(-x_lim, x_lim,num_instances)\n",
    "\n",
    "# add a column of ones for interceipt fitting \n",
    "X1_ones = np.hstack([X1.reshape((num_instances, 1)), np.ones((num_instances,1))]) \n",
    "\n",
    "# definition of the output : the function is linear with gaussian white noise\n",
    "y1 = 1 * X1 + np.random.normal(0, 1, num_instances)"
   ]
  },
  {
   "cell_type": "code",
   "execution_count": 6,
   "metadata": {
    "ExecuteTime": {
     "end_time": "2019-03-14T10:59:43.433201Z",
     "start_time": "2019-03-14T10:59:43.291572Z"
    }
   },
   "outputs": [
    {
     "data": {
      "image/png": "[encoded data removed]",
      "text/plain": [
       "<Figure size 432x288 with 1 Axes>"
      ]
     },
     "metadata": {
      "needs_background": "light"
     },
     "output_type": "display_data"
    }
   ],
   "source": [
    "def plot_1D_case(X, X_ones, y, clf=None):\n",
    "    '''visualization function'''\n",
    "    if not(clf is None):\n",
    "        print(\"MSE = {:.4f}\".format(np.mean((clf.predict(X_ones) - y)**2)))\n",
    "        print(\"R^2 = {:.4f}\".format(clf.score(X_ones, y)))\n",
    "        y_pred = clf.predict(X_ones)\n",
    "        if y_pred.shape[0] == 1:\n",
    "            y_pred = y_pred.reshape((-1,))\n",
    "        plt.plot(X, y_pred, 'k-', label='predictor')\n",
    "        \n",
    "    plt.scatter(X, y, label='data points')\n",
    "    plt.legend()\n",
    "    plt.grid()\n",
    "    plt.xlabel(\"input X\")\n",
    "    plt.ylabel(\"output y\")\n",
    "    plt.show()\n",
    "\n",
    "plot_1D_case(X1, X1_ones, y1, None)"
   ]
  },
  {
   "cell_type": "markdown",
   "metadata": {},
   "source": [
    "## Quasi-Bayesian Approach"
   ]
  },
  {
   "cell_type": "code",
   "execution_count": 7,
   "metadata": {
    "ExecuteTime": {
     "end_time": "2019-03-14T11:00:02.589046Z",
     "start_time": "2019-03-14T11:00:01.197835Z"
    }
   },
   "outputs": [
    {
     "name": "stdout",
     "output_type": "stream",
     "text": [
      "MSE = 1.0560\n",
      "R^2 = 0.8900\n"
     ]
    },
    {
     "data": {
      "image/png": "[encoded data removed]",
      "text/plain": [
       "<Figure size 432x288 with 1 Axes>"
      ]
     },
     "metadata": {
      "needs_background": "light"
     },
     "output_type": "display_data"
    }
   ],
   "source": [
    "# dimension of the data\n",
    "d=1\n",
    "\n",
    "# instanciation of the Quasi Bayesian Approach\n",
    "approach = QuasiBayesianApproach(d=d, lambda_=1., X=X1_ones, y=y1, prior_mean=np.zeros((d+1,)), prior_cov=4*np.eye(d+1))\n",
    "\n",
    "# get an estimator from a sampling of the pseudo-posterior\n",
    "phi = approach.get_estimator()\n",
    "\n",
    "# plot results\n",
    "plot_1D_case(X1, X1_ones, y1, phi)"
   ]
  },
  {
   "cell_type": "markdown",
   "metadata": {},
   "source": [
    "## Sklearn Linear Regression (for comparison)"
   ]
  },
  {
   "cell_type": "code",
   "execution_count": 8,
   "metadata": {
    "ExecuteTime": {
     "end_time": "2019-03-14T11:00:21.696110Z",
     "start_time": "2019-03-14T11:00:21.551703Z"
    }
   },
   "outputs": [
    {
     "name": "stdout",
     "output_type": "stream",
     "text": [
      "MSE = 1.0545\n",
      "R^2 = 0.8898\n"
     ]
    },
    {
     "data": {
      "image/png": "[encoded data removed]",
      "text/plain": [
       "<Figure size 432x288 with 1 Axes>"
      ]
     },
     "metadata": {
      "needs_background": "light"
     },
     "output_type": "display_data"
    }
   ],
   "source": [
    "# split the dataset into a train set and a test set \n",
    "X_train, X_test, y_train, y_test = train_test_split(X1_ones, y1, test_size=0.33, random_state=42)\n",
    "\n",
    "# instanciation of the linear regressor\n",
    "clf = LinearRegression(fit_intercept=False)\n",
    "\n",
    "# training of the regressor\n",
    "clf.fit(X_train, y_train)\n",
    "\n",
    "# plot results\n",
    "plot_1D_case(X1, X1_ones, y1, clf)"
   ]
  },
  {
   "cell_type": "markdown",
   "metadata": {},
   "source": [
    "Looking at the MSE and determination coefficient, one can notice that our Bayesian method performs equally well as the Sklearn Linear Regression, though they use totally different paradigms and fiting methods. "
   ]
  },
  {
   "cell_type": "markdown",
   "metadata": {
    "toc-hr-collapsed": false
   },
   "source": [
    "# Real Multivariate Case application (d=10)\n",
    "\n",
    "One can now wonder if our model remains performant when the dimension $d$ inscreases. We now test our method in a multi-dimensional case : the **sklearn diabetes dataset**."
   ]
  },
  {
   "cell_type": "markdown",
   "metadata": {},
   "source": [
    "## Data importation"
   ]
  },
  {
   "cell_type": "code",
   "execution_count": 18,
   "metadata": {
    "ExecuteTime": {
     "end_time": "2019-03-14T11:00:22.817813Z",
     "start_time": "2019-03-14T11:00:22.801855Z"
    }
   },
   "outputs": [
    {
     "name": "stdout",
     "output_type": "stream",
     "text": [
      "dict_keys(['data', 'target', 'DESCR', 'feature_names', 'data_filename', 'target_filename'])\n"
     ]
    }
   ],
   "source": [
    "dataset = load_diabetes()\n",
    "print(dataset.keys())"
   ]
  },
  {
   "cell_type": "code",
   "execution_count": 10,
   "metadata": {
    "ExecuteTime": {
     "end_time": "2019-03-14T11:00:23.158926Z",
     "start_time": "2019-03-14T11:00:23.153940Z"
    }
   },
   "outputs": [
    {
     "data": {
      "text/plain": [
       "(442, 10)"
      ]
     },
     "execution_count": 10,
     "metadata": {},
     "output_type": "execute_result"
    }
   ],
   "source": [
    "total_size, d = dataset.data.shape\n",
    "total_size, d"
   ]
  },
  {
   "cell_type": "code",
   "execution_count": 11,
   "metadata": {
    "ExecuteTime": {
     "end_time": "2019-03-14T11:00:23.547510Z",
     "start_time": "2019-03-14T11:00:23.539501Z"
    }
   },
   "outputs": [],
   "source": [
    "# Normalization\n",
    "scalerX = StandardScaler()\n",
    "scalerY = StandardScaler()\n",
    "\n",
    "X2, y2 = dataset.data, dataset.target\n",
    "X2 = scalerX.fit_transform(X2)\n",
    "y2 = scalerY.fit_transform(y2.reshape(-1,1)).reshape((-1,))\n",
    "\n",
    "X2_ones = np.hstack([X2, np.ones((X2.shape[0],1))])"
   ]
  },
  {
   "cell_type": "code",
   "execution_count": 12,
   "metadata": {
    "ExecuteTime": {
     "end_time": "2019-03-14T11:00:23.906758Z",
     "start_time": "2019-03-14T11:00:23.901783Z"
    }
   },
   "outputs": [
    {
     "name": "stdout",
     "output_type": "stream",
     "text": [
      "(442, 11)\n",
      "(442,)\n"
     ]
    }
   ],
   "source": [
    "print(X2_ones.shape)\n",
    "print(y2.shape)"
   ]
  },
  {
   "cell_type": "code",
   "execution_count": 13,
   "metadata": {
    "ExecuteTime": {
     "end_time": "2019-03-14T11:00:24.675491Z",
     "start_time": "2019-03-14T11:00:24.670503Z"
    }
   },
   "outputs": [
    {
     "name": "stdout",
     "output_type": "stream",
     "text": [
      "[-9.54490383e-18 -8.38946810e-17  2.41134413e-17  2.05968977e-17\n",
      " -5.92788764e-17 -5.45064245e-17  5.32505161e-17  2.71778578e-16\n",
      "  2.95138474e-18 -2.02515229e-17  1.00000000e+00]\n"
     ]
    }
   ],
   "source": [
    "print(np.mean(X2_ones, axis=0))"
   ]
  },
  {
   "cell_type": "code",
   "execution_count": 14,
   "metadata": {
    "ExecuteTime": {
     "end_time": "2019-03-14T11:00:25.077745Z",
     "start_time": "2019-03-14T11:00:25.069750Z"
    }
   },
   "outputs": [],
   "source": [
    "def plot_case_ND(clf, X, y):\n",
    "    print('predictor coefficients :')\n",
    "    if isinstance(clf, Predictor):\n",
    "        print(clf.theta)\n",
    "        print(\"MSE = {:.4f}\".format(clf.emp_risk(X, y)))\n",
    "    else:\n",
    "        print(clf.coef_)\n",
    "        print(\"MSE = {:.4f}\".format(np.mean((clf.predict(X) - y)**2)))\n",
    "\n",
    "    print(\"R^2 = {:.4f}\".format(clf.score(X, y)))\n",
    "    plt.scatter(y, clf.predict(X), label=\"true VS predicted\")\n",
    "    plt.ylabel('predicted')\n",
    "    plt.plot([np.min(y), np.max(y)], [np.min(y), np.max(y)], 'k--', label='ideal')\n",
    "    plt.xlabel('true')\n",
    "    plt.grid()\n",
    "    plt.legend()\n",
    "    plt.axis('equal')\n",
    "    plt.show()"
   ]
  },
  {
   "cell_type": "markdown",
   "metadata": {},
   "source": [
    "## Quasi-Bayesian Approach"
   ]
  },
  {
   "cell_type": "code",
   "execution_count": 15,
   "metadata": {
    "ExecuteTime": {
     "end_time": "2019-03-14T11:00:52.598809Z",
     "start_time": "2019-03-14T11:00:51.127068Z"
    }
   },
   "outputs": [
    {
     "name": "stdout",
     "output_type": "stream",
     "text": [
      "predictor coefficients :\n",
      "[-0.0109851  -0.14507811  0.29331581  0.20278042 -0.18632897  0.04742827\n",
      " -0.04064766  0.12541214  0.3034192   0.0658912   0.00428389]\n",
      "MSE = 0.4866\n",
      "R^2 = 0.5147\n"
     ]
    },
    {
     "data": {
      "image/png": "[encoded data removed]",
      "text/plain": [
       "<Figure size 432x288 with 1 Axes>"
      ]
     },
     "metadata": {
      "needs_background": "light"
     },
     "output_type": "display_data"
    }
   ],
   "source": [
    "# instanciation of the Quasi Bayesian Approach\n",
    "approach = QuasiBayesianApproach(d=d, lambda_=10., X=X2_ones, y=y2, prior_mean=np.zeros((d+1,)), prior_cov=np.eye(d+1))\n",
    "\n",
    "# get an estimator from a sampling of the pseudo-posterior\n",
    "phi = approach.get_estimator()\n",
    "\n",
    "# plot results\n",
    "plot_case_ND(phi, X2_ones, y2)"
   ]
  },
  {
   "cell_type": "markdown",
   "metadata": {
    "toc-hr-collapsed": false
   },
   "source": [
    "## Sklearn Linear Regression (for comparison)"
   ]
  },
  {
   "cell_type": "code",
   "execution_count": 16,
   "metadata": {
    "ExecuteTime": {
     "end_time": "2019-03-14T10:58:49.428103Z",
     "start_time": "2019-03-14T10:58:47.828Z"
    }
   },
   "outputs": [
    {
     "name": "stdout",
     "output_type": "stream",
     "text": [
      "predictor coefficients :\n",
      "[ 0.01985584 -0.14998941  0.34589475  0.25179338 -0.44392085  0.24499172\n",
      "  0.00643814  0.10612523  0.38733659 -0.01335691 -0.0220699 ]\n",
      "MSE = 0.4900\n",
      "R^2 = 0.5100\n"
     ]
    },
    {
     "data": {
      "image/png": "[encoded data removed]",
      "text/plain": [
       "<Figure size 432x288 with 1 Axes>"
      ]
     },
     "metadata": {
      "needs_background": "light"
     },
     "output_type": "display_data"
    }
   ],
   "source": [
    "# split the dataset into a train set and a test set \n",
    "X_train, X_test, y_train, y_test = train_test_split(X2_ones, y2, test_size=0.33, random_state=42)\n",
    "\n",
    "# instanciation of the linear regressor\n",
    "clf = LinearRegression(fit_intercept=False)\n",
    "\n",
    "# training of the regressor\n",
    "clf.fit(X_train, y_train)\n",
    "\n",
    "# plot results\n",
    "plot_case_ND(clf, X2_ones, y2)"
   ]
  },
  {
   "cell_type": "markdown",
   "metadata": {},
   "source": [
    "Here, in this 10-dimensional case, one can see that the two models have the same MSE and determination coefficient.\n",
    "\n",
    "# Conclusion\n",
    "\n",
    "In this work, I implemented a Quasi-Bayesian approach for fitting linear models to some training data, tested it on two use cases (a 1-dimensional one, and a 10-dimensional one), and compared its results with a sklearn linear regression's. As one could see, the two models perform equally well in the two cases.  "
   ]
  }
 ],
 "metadata": {
  "kernelspec": {
   "display_name": "Python 3",
   "language": "python",
   "name": "python3"
  },
  "language_info": {
   "codemirror_mode": {
    "name": "ipython",
    "version": 3
   },
   "file_extension": ".py",
   "mimetype": "text/x-python",
   "name": "python",
   "nbconvert_exporter": "python",
   "pygments_lexer": "ipython3",
   "version": "3.6.5"
  },
  "toc": {
   "base_numbering": 1,
   "nav_menu": {},
   "number_sections": true,
   "sideBar": true,
   "skip_h1_title": false,
   "title_cell": "TP : Application of Quasi-Bayesian Learning Methods for Regression",
   "title_sidebar": "Contents",
   "toc_cell": true,
   "toc_position": {},
   "toc_section_display": true,
   "toc_window_display": true
  },
  "toc-autonumbering": false,
  "toc-showcode": true,
  "toc-showmarkdowntxt": false,
  "toc-showtags": false,
  "varInspector": {
   "cols": {
    "lenName": 16,
    "lenType": 16,
    "lenVar": 40
   },
   "kernels_config": {
    "python": {
     "delete_cmd_postfix": "",
     "delete_cmd_prefix": "del ",
     "library": "var_list.py",
     "varRefreshCmd": "print(var_dic_list())"
    },
    "r": {
     "delete_cmd_postfix": ") ",
     "delete_cmd_prefix": "rm(",
     "library": "var_list.r",
     "varRefreshCmd": "cat(var_dic_list()) "
    }
   },
   "types_to_exclude": [
    "module",
    "function",
    "builtin_function_or_method",
    "instance",
    "_Feature"
   ],
   "window_display": false
  }
 },
 "nbformat": 4,
 "nbformat_minor": 2
}
